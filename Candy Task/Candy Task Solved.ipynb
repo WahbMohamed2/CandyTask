{
 "cells": [
  {
   "cell_type": "markdown",
   "metadata": {},
   "source": [
    "# Project: cleanning - [candy data]\n",
    "### this notebook is for educational purpose . in this notebook we will do some cleanning\n",
    "\n",
    "## Table of Contents\n",
    "<ul>\n",
    "<li><a href=\"#intro\">Introduction</a></li>\n",
    "<li><a href=\"#wrangling\">wrangling</a></li>\n",
    "  \n",
    "</ul>"
   ]
  },
  {
   "cell_type": "markdown",
   "metadata": {},
   "source": [
    "<a id='intro'></a>\n",
    "## Introduction\n",
    "\n",
    "### Dataset Description \n",
    "\n",
    "> i will go through candy data 2017 , this data has :\n",
    "- Internal_ID\n",
    "- Q1-Going Out?: Are you actually going trick or treating yourself? \"has values `Yes or No`\"\n",
    "- Q2-Gender: It has four different options, `Femal ,Male ,Other ,I'd rather not say`\n",
    "- Q3-Age: Numerical field\n",
    "- Q4-Country: Text Field, but users have written their own version of the names. Example, for America, there are entries such as USA, us, US, America so we should consider that while cleanning\n",
    "- Q5-State/Province: Text Field, but users have written their own version of the names. Same as the country data.\n",
    "- Q6-Joy Or Despair: All kinds of chocolate bars are the questions with three distinct options to choose from (Joy, Meh, Despair).\n",
    "- Q7-Joy Other: Text Field to write items not included above that give you JOY. Lots of missing values.\n",
    "- Q8-Despair Other: Text Field ti write items not included above that give you DESPAIR. Lots of missing values.\n",
    "- Q9-Other Comments: Text Field. Lots of missing values.\n",
    "- Q10-Dress: Binary field. Missing values present\n",
    "- Unnamed: 113\n",
    "- Q11-Day: Binary Answer Field. Missing values present\n"
   ]
  },
  {
   "cell_type": "markdown",
   "metadata": {},
   "source": [
    "# 1- import packages and load data"
   ]
  },
  {
   "cell_type": "code",
   "execution_count": 1,
   "metadata": {},
   "outputs": [],
   "source": [
    "import pandas as pd\n",
    "import numpy as np\n",
    "import matplotlib.pyplot as plt\n",
    "import seaborn as sns"
   ]
  },
  {
   "cell_type": "code",
   "execution_count": 2,
   "metadata": {},
   "outputs": [],
   "source": [
    "import warnings \n",
    "warnings.filterwarnings('ignore')"
   ]
  },
  {
   "cell_type": "code",
   "execution_count": 3,
   "metadata": {},
   "outputs": [],
   "source": [
    "df = pd.read_excel(\"candyhierarchy2017.xlsx\")"
   ]
  },
  {
   "cell_type": "markdown",
   "metadata": {},
   "source": [
    "<a id='wrangling'></a>\n",
    "## Data Wrangling\n",
    "\n",
    "\n",
    "\n",
    "### General Properties"
   ]
  },
  {
   "cell_type": "markdown",
   "metadata": {},
   "source": [
    "# 2- show some general properties for the data "
   ]
  },
  {
   "cell_type": "code",
   "execution_count": 4,
   "metadata": {},
   "outputs": [
    {
     "data": {
      "text/html": [
       "<div>\n",
       "<style scoped>\n",
       "    .dataframe tbody tr th:only-of-type {\n",
       "        vertical-align: middle;\n",
       "    }\n",
       "\n",
       "    .dataframe tbody tr th {\n",
       "        vertical-align: top;\n",
       "    }\n",
       "\n",
       "    .dataframe thead th {\n",
       "        text-align: right;\n",
       "    }\n",
       "</style>\n",
       "<table border=\"1\" class=\"dataframe\">\n",
       "  <thead>\n",
       "    <tr style=\"text-align: right;\">\n",
       "      <th></th>\n",
       "      <th>Internal ID</th>\n",
       "      <th>Q1: GOING OUT?</th>\n",
       "      <th>Q2: GENDER</th>\n",
       "      <th>Q3: AGE</th>\n",
       "      <th>Q4: COUNTRY</th>\n",
       "      <th>Q5: STATE, PROVINCE, COUNTY, ETC</th>\n",
       "      <th>Q6 | 100 Grand Bar</th>\n",
       "      <th>Q6 | Anonymous brown globs that come in black and orange wrappers\\t(a.k.a. Mary Janes)</th>\n",
       "      <th>Q6 | Any full-sized candy bar</th>\n",
       "      <th>Q6 | Black Jacks</th>\n",
       "      <th>...</th>\n",
       "      <th>Q8: DESPAIR OTHER</th>\n",
       "      <th>Q9: OTHER COMMENTS</th>\n",
       "      <th>Q10: DRESS</th>\n",
       "      <th>Unnamed: 113</th>\n",
       "      <th>Q11: DAY</th>\n",
       "      <th>Q12: MEDIA [Daily Dish]</th>\n",
       "      <th>Q12: MEDIA [Science]</th>\n",
       "      <th>Q12: MEDIA [ESPN]</th>\n",
       "      <th>Q12: MEDIA [Yahoo]</th>\n",
       "      <th>Click Coordinates (x, y)</th>\n",
       "    </tr>\n",
       "  </thead>\n",
       "  <tbody>\n",
       "    <tr>\n",
       "      <th>0</th>\n",
       "      <td>90258773</td>\n",
       "      <td>NaN</td>\n",
       "      <td>NaN</td>\n",
       "      <td>NaN</td>\n",
       "      <td>NaN</td>\n",
       "      <td>NaN</td>\n",
       "      <td>NaN</td>\n",
       "      <td>NaN</td>\n",
       "      <td>NaN</td>\n",
       "      <td>NaN</td>\n",
       "      <td>...</td>\n",
       "      <td>NaN</td>\n",
       "      <td>NaN</td>\n",
       "      <td>NaN</td>\n",
       "      <td>NaN</td>\n",
       "      <td>NaN</td>\n",
       "      <td>NaN</td>\n",
       "      <td>NaN</td>\n",
       "      <td>NaN</td>\n",
       "      <td>NaN</td>\n",
       "      <td>NaN</td>\n",
       "    </tr>\n",
       "    <tr>\n",
       "      <th>1</th>\n",
       "      <td>90272821</td>\n",
       "      <td>No</td>\n",
       "      <td>Male</td>\n",
       "      <td>44</td>\n",
       "      <td>USA</td>\n",
       "      <td>NM</td>\n",
       "      <td>MEH</td>\n",
       "      <td>DESPAIR</td>\n",
       "      <td>JOY</td>\n",
       "      <td>MEH</td>\n",
       "      <td>...</td>\n",
       "      <td>NaN</td>\n",
       "      <td>Bottom line is Twix is really the only candy w...</td>\n",
       "      <td>White and gold</td>\n",
       "      <td>NaN</td>\n",
       "      <td>Sunday</td>\n",
       "      <td>NaN</td>\n",
       "      <td>1.0</td>\n",
       "      <td>NaN</td>\n",
       "      <td>NaN</td>\n",
       "      <td>(84, 25)</td>\n",
       "    </tr>\n",
       "    <tr>\n",
       "      <th>2</th>\n",
       "      <td>90272829</td>\n",
       "      <td>NaN</td>\n",
       "      <td>Male</td>\n",
       "      <td>49</td>\n",
       "      <td>USA</td>\n",
       "      <td>Virginia</td>\n",
       "      <td>NaN</td>\n",
       "      <td>NaN</td>\n",
       "      <td>NaN</td>\n",
       "      <td>NaN</td>\n",
       "      <td>...</td>\n",
       "      <td>NaN</td>\n",
       "      <td>NaN</td>\n",
       "      <td>NaN</td>\n",
       "      <td>NaN</td>\n",
       "      <td>NaN</td>\n",
       "      <td>NaN</td>\n",
       "      <td>NaN</td>\n",
       "      <td>NaN</td>\n",
       "      <td>NaN</td>\n",
       "      <td>NaN</td>\n",
       "    </tr>\n",
       "    <tr>\n",
       "      <th>3</th>\n",
       "      <td>90272840</td>\n",
       "      <td>No</td>\n",
       "      <td>Male</td>\n",
       "      <td>40</td>\n",
       "      <td>us</td>\n",
       "      <td>or</td>\n",
       "      <td>MEH</td>\n",
       "      <td>DESPAIR</td>\n",
       "      <td>JOY</td>\n",
       "      <td>MEH</td>\n",
       "      <td>...</td>\n",
       "      <td>NaN</td>\n",
       "      <td>Raisins can go to hell</td>\n",
       "      <td>White and gold</td>\n",
       "      <td>NaN</td>\n",
       "      <td>Sunday</td>\n",
       "      <td>NaN</td>\n",
       "      <td>1.0</td>\n",
       "      <td>NaN</td>\n",
       "      <td>NaN</td>\n",
       "      <td>(75, 23)</td>\n",
       "    </tr>\n",
       "    <tr>\n",
       "      <th>4</th>\n",
       "      <td>90272841</td>\n",
       "      <td>No</td>\n",
       "      <td>Male</td>\n",
       "      <td>23</td>\n",
       "      <td>usa</td>\n",
       "      <td>exton pa</td>\n",
       "      <td>JOY</td>\n",
       "      <td>DESPAIR</td>\n",
       "      <td>JOY</td>\n",
       "      <td>DESPAIR</td>\n",
       "      <td>...</td>\n",
       "      <td>NaN</td>\n",
       "      <td>NaN</td>\n",
       "      <td>White and gold</td>\n",
       "      <td>NaN</td>\n",
       "      <td>Friday</td>\n",
       "      <td>NaN</td>\n",
       "      <td>1.0</td>\n",
       "      <td>NaN</td>\n",
       "      <td>NaN</td>\n",
       "      <td>(70, 10)</td>\n",
       "    </tr>\n",
       "  </tbody>\n",
       "</table>\n",
       "<p>5 rows × 120 columns</p>\n",
       "</div>"
      ],
      "text/plain": [
       "   Internal ID Q1: GOING OUT? Q2: GENDER Q3: AGE Q4: COUNTRY  \\\n",
       "0     90258773            NaN        NaN     NaN         NaN   \n",
       "1     90272821             No       Male      44        USA    \n",
       "2     90272829            NaN       Male      49         USA   \n",
       "3     90272840             No       Male      40          us   \n",
       "4     90272841             No       Male      23         usa   \n",
       "\n",
       "  Q5: STATE, PROVINCE, COUNTY, ETC Q6 | 100 Grand Bar  \\\n",
       "0                              NaN                NaN   \n",
       "1                               NM                MEH   \n",
       "2                         Virginia                NaN   \n",
       "3                               or                MEH   \n",
       "4                         exton pa                JOY   \n",
       "\n",
       "  Q6 | Anonymous brown globs that come in black and orange wrappers\\t(a.k.a. Mary Janes)  \\\n",
       "0                                                NaN                                       \n",
       "1                                            DESPAIR                                       \n",
       "2                                                NaN                                       \n",
       "3                                            DESPAIR                                       \n",
       "4                                            DESPAIR                                       \n",
       "\n",
       "  Q6 | Any full-sized candy bar Q6 | Black Jacks  ... Q8: DESPAIR OTHER  \\\n",
       "0                           NaN              NaN  ...               NaN   \n",
       "1                           JOY              MEH  ...               NaN   \n",
       "2                           NaN              NaN  ...               NaN   \n",
       "3                           JOY              MEH  ...               NaN   \n",
       "4                           JOY          DESPAIR  ...               NaN   \n",
       "\n",
       "                                  Q9: OTHER COMMENTS      Q10: DRESS  \\\n",
       "0                                                NaN             NaN   \n",
       "1  Bottom line is Twix is really the only candy w...  White and gold   \n",
       "2                                                NaN             NaN   \n",
       "3                             Raisins can go to hell  White and gold   \n",
       "4                                                NaN  White and gold   \n",
       "\n",
       "  Unnamed: 113 Q11: DAY Q12: MEDIA [Daily Dish] Q12: MEDIA [Science]  \\\n",
       "0          NaN      NaN                     NaN                  NaN   \n",
       "1          NaN   Sunday                     NaN                  1.0   \n",
       "2          NaN      NaN                     NaN                  NaN   \n",
       "3          NaN   Sunday                     NaN                  1.0   \n",
       "4          NaN   Friday                     NaN                  1.0   \n",
       "\n",
       "  Q12: MEDIA [ESPN] Q12: MEDIA [Yahoo] Click Coordinates (x, y)  \n",
       "0               NaN                NaN                      NaN  \n",
       "1               NaN                NaN                 (84, 25)  \n",
       "2               NaN                NaN                      NaN  \n",
       "3               NaN                NaN                 (75, 23)  \n",
       "4               NaN                NaN                 (70, 10)  \n",
       "\n",
       "[5 rows x 120 columns]"
      ]
     },
     "execution_count": 4,
     "metadata": {},
     "output_type": "execute_result"
    }
   ],
   "source": [
    "df.head()"
   ]
  },
  {
   "cell_type": "code",
   "execution_count": 5,
   "metadata": {},
   "outputs": [
    {
     "data": {
      "text/plain": [
       "(2460, 120)"
      ]
     },
     "execution_count": 5,
     "metadata": {},
     "output_type": "execute_result"
    }
   ],
   "source": [
    "df.shape"
   ]
  },
  {
   "cell_type": "code",
   "execution_count": 6,
   "metadata": {},
   "outputs": [
    {
     "data": {
      "text/plain": [
       "Internal ID                    0\n",
       "Q1: GOING OUT?               110\n",
       "Q2: GENDER                    41\n",
       "Q3: AGE                       84\n",
       "Q4: COUNTRY                   64\n",
       "                            ... \n",
       "Q12: MEDIA [Daily Dish]     2375\n",
       "Q12: MEDIA [Science]        1098\n",
       "Q12: MEDIA [ESPN]           2361\n",
       "Q12: MEDIA [Yahoo]          2393\n",
       "Click Coordinates (x, y)     855\n",
       "Length: 120, dtype: int64"
      ]
     },
     "execution_count": 6,
     "metadata": {},
     "output_type": "execute_result"
    }
   ],
   "source": [
    "df.isnull().sum()"
   ]
  },
  {
   "cell_type": "code",
   "execution_count": 9,
   "metadata": {},
   "outputs": [
    {
     "data": {
      "text/plain": [
       "False"
      ]
     },
     "execution_count": 9,
     "metadata": {},
     "output_type": "execute_result"
    }
   ],
   "source": [
    "df.duplicated().any()"
   ]
  },
  {
   "cell_type": "code",
   "execution_count": 10,
   "metadata": {},
   "outputs": [
    {
     "data": {
      "text/html": [
       "<div>\n",
       "<style scoped>\n",
       "    .dataframe tbody tr th:only-of-type {\n",
       "        vertical-align: middle;\n",
       "    }\n",
       "\n",
       "    .dataframe tbody tr th {\n",
       "        vertical-align: top;\n",
       "    }\n",
       "\n",
       "    .dataframe thead th {\n",
       "        text-align: right;\n",
       "    }\n",
       "</style>\n",
       "<table border=\"1\" class=\"dataframe\">\n",
       "  <thead>\n",
       "    <tr style=\"text-align: right;\">\n",
       "      <th></th>\n",
       "      <th>Internal ID</th>\n",
       "      <th>Q12: MEDIA [Daily Dish]</th>\n",
       "      <th>Q12: MEDIA [Science]</th>\n",
       "      <th>Q12: MEDIA [ESPN]</th>\n",
       "      <th>Q12: MEDIA [Yahoo]</th>\n",
       "    </tr>\n",
       "  </thead>\n",
       "  <tbody>\n",
       "    <tr>\n",
       "      <th>count</th>\n",
       "      <td>2.460000e+03</td>\n",
       "      <td>85.0</td>\n",
       "      <td>1362.0</td>\n",
       "      <td>99.0</td>\n",
       "      <td>67.0</td>\n",
       "    </tr>\n",
       "    <tr>\n",
       "      <th>mean</th>\n",
       "      <td>9.028016e+07</td>\n",
       "      <td>1.0</td>\n",
       "      <td>1.0</td>\n",
       "      <td>1.0</td>\n",
       "      <td>1.0</td>\n",
       "    </tr>\n",
       "    <tr>\n",
       "      <th>std</th>\n",
       "      <td>7.435532e+03</td>\n",
       "      <td>0.0</td>\n",
       "      <td>0.0</td>\n",
       "      <td>0.0</td>\n",
       "      <td>0.0</td>\n",
       "    </tr>\n",
       "    <tr>\n",
       "      <th>min</th>\n",
       "      <td>9.025877e+07</td>\n",
       "      <td>1.0</td>\n",
       "      <td>1.0</td>\n",
       "      <td>1.0</td>\n",
       "      <td>1.0</td>\n",
       "    </tr>\n",
       "    <tr>\n",
       "      <th>25%</th>\n",
       "      <td>9.027520e+07</td>\n",
       "      <td>1.0</td>\n",
       "      <td>1.0</td>\n",
       "      <td>1.0</td>\n",
       "      <td>1.0</td>\n",
       "    </tr>\n",
       "    <tr>\n",
       "      <th>50%</th>\n",
       "      <td>9.027780e+07</td>\n",
       "      <td>1.0</td>\n",
       "      <td>1.0</td>\n",
       "      <td>1.0</td>\n",
       "      <td>1.0</td>\n",
       "    </tr>\n",
       "    <tr>\n",
       "      <th>75%</th>\n",
       "      <td>9.028242e+07</td>\n",
       "      <td>1.0</td>\n",
       "      <td>1.0</td>\n",
       "      <td>1.0</td>\n",
       "      <td>1.0</td>\n",
       "    </tr>\n",
       "    <tr>\n",
       "      <th>max</th>\n",
       "      <td>9.031480e+07</td>\n",
       "      <td>1.0</td>\n",
       "      <td>1.0</td>\n",
       "      <td>1.0</td>\n",
       "      <td>1.0</td>\n",
       "    </tr>\n",
       "  </tbody>\n",
       "</table>\n",
       "</div>"
      ],
      "text/plain": [
       "        Internal ID  Q12: MEDIA [Daily Dish]  Q12: MEDIA [Science]  \\\n",
       "count  2.460000e+03                     85.0                1362.0   \n",
       "mean   9.028016e+07                      1.0                   1.0   \n",
       "std    7.435532e+03                      0.0                   0.0   \n",
       "min    9.025877e+07                      1.0                   1.0   \n",
       "25%    9.027520e+07                      1.0                   1.0   \n",
       "50%    9.027780e+07                      1.0                   1.0   \n",
       "75%    9.028242e+07                      1.0                   1.0   \n",
       "max    9.031480e+07                      1.0                   1.0   \n",
       "\n",
       "       Q12: MEDIA [ESPN]  Q12: MEDIA [Yahoo]  \n",
       "count               99.0                67.0  \n",
       "mean                 1.0                 1.0  \n",
       "std                  0.0                 0.0  \n",
       "min                  1.0                 1.0  \n",
       "25%                  1.0                 1.0  \n",
       "50%                  1.0                 1.0  \n",
       "75%                  1.0                 1.0  \n",
       "max                  1.0                 1.0  "
      ]
     },
     "execution_count": 10,
     "metadata": {},
     "output_type": "execute_result"
    }
   ],
   "source": [
    "df.describe()"
   ]
  },
  {
   "cell_type": "markdown",
   "metadata": {},
   "source": [
    "# 3- write summary about what you get form the above functions\n",
    "> #### tips : this summary can be about : if there is any missing values , if there a wrong data type , if there a wrong range of values , ...."
   ]
  },
  {
   "cell_type": "code",
   "execution_count": 11,
   "metadata": {},
   "outputs": [],
   "source": [
    "#The dataset contains a lot of missing data, but there's no duplicates, we should remove\n",
    "#some columns and modify other ones' datatypes"
   ]
  },
  {
   "cell_type": "markdown",
   "metadata": {},
   "source": [
    "# cleaning"
   ]
  },
  {
   "cell_type": "markdown",
   "metadata": {},
   "source": [
    "### 4- drop all the useless columns and  rows with too much NaN , \n",
    "> tip : useless columns can be like `Internal ID`and can be also columns with too much NaN \n",
    "- rename columns for easy access"
   ]
  },
  {
   "cell_type": "code",
   "execution_count": 31,
   "metadata": {},
   "outputs": [
    {
     "data": {
      "text/html": [
       "<div>\n",
       "<style scoped>\n",
       "    .dataframe tbody tr th:only-of-type {\n",
       "        vertical-align: middle;\n",
       "    }\n",
       "\n",
       "    .dataframe tbody tr th {\n",
       "        vertical-align: top;\n",
       "    }\n",
       "\n",
       "    .dataframe thead th {\n",
       "        text-align: right;\n",
       "    }\n",
       "</style>\n",
       "<table border=\"1\" class=\"dataframe\">\n",
       "  <thead>\n",
       "    <tr style=\"text-align: right;\">\n",
       "      <th></th>\n",
       "      <th>Going out</th>\n",
       "      <th>Gender</th>\n",
       "      <th>Age</th>\n",
       "      <th>Country</th>\n",
       "      <th>State</th>\n",
       "      <th>100 Grand Bar</th>\n",
       "      <th>Anonymous brown globs that come in black and orange wrappers\\t(a.k.a. Mary Janes)</th>\n",
       "      <th>Any full-sized candy bar</th>\n",
       "      <th>Black Jacks</th>\n",
       "      <th>Bonkers (the candy)</th>\n",
       "      <th>...</th>\n",
       "      <th>Whatchamacallit Bars</th>\n",
       "      <th>White Bread</th>\n",
       "      <th>Whole Wheat anything</th>\n",
       "      <th>York Peppermint Patties</th>\n",
       "      <th>Dress</th>\n",
       "      <th>Day</th>\n",
       "      <th>Science</th>\n",
       "      <th>ESPN</th>\n",
       "      <th>Yahoo</th>\n",
       "      <th>Click Coordinates (x, y)</th>\n",
       "    </tr>\n",
       "  </thead>\n",
       "  <tbody>\n",
       "    <tr>\n",
       "      <th>0</th>\n",
       "      <td>NaN</td>\n",
       "      <td>NaN</td>\n",
       "      <td>NaN</td>\n",
       "      <td>NaN</td>\n",
       "      <td>NaN</td>\n",
       "      <td>NaN</td>\n",
       "      <td>NaN</td>\n",
       "      <td>NaN</td>\n",
       "      <td>NaN</td>\n",
       "      <td>NaN</td>\n",
       "      <td>...</td>\n",
       "      <td>NaN</td>\n",
       "      <td>NaN</td>\n",
       "      <td>NaN</td>\n",
       "      <td>NaN</td>\n",
       "      <td>NaN</td>\n",
       "      <td>NaN</td>\n",
       "      <td>NaN</td>\n",
       "      <td>NaN</td>\n",
       "      <td>NaN</td>\n",
       "      <td>NaN</td>\n",
       "    </tr>\n",
       "    <tr>\n",
       "      <th>1</th>\n",
       "      <td>No</td>\n",
       "      <td>Male</td>\n",
       "      <td>44</td>\n",
       "      <td>USA</td>\n",
       "      <td>NM</td>\n",
       "      <td>MEH</td>\n",
       "      <td>DESPAIR</td>\n",
       "      <td>JOY</td>\n",
       "      <td>MEH</td>\n",
       "      <td>DESPAIR</td>\n",
       "      <td>...</td>\n",
       "      <td>DESPAIR</td>\n",
       "      <td>DESPAIR</td>\n",
       "      <td>DESPAIR</td>\n",
       "      <td>DESPAIR</td>\n",
       "      <td>White and gold</td>\n",
       "      <td>Sunday</td>\n",
       "      <td>1.0</td>\n",
       "      <td>NaN</td>\n",
       "      <td>NaN</td>\n",
       "      <td>(84, 25)</td>\n",
       "    </tr>\n",
       "    <tr>\n",
       "      <th>2</th>\n",
       "      <td>NaN</td>\n",
       "      <td>Male</td>\n",
       "      <td>49</td>\n",
       "      <td>USA</td>\n",
       "      <td>Virginia</td>\n",
       "      <td>NaN</td>\n",
       "      <td>NaN</td>\n",
       "      <td>NaN</td>\n",
       "      <td>NaN</td>\n",
       "      <td>NaN</td>\n",
       "      <td>...</td>\n",
       "      <td>NaN</td>\n",
       "      <td>NaN</td>\n",
       "      <td>NaN</td>\n",
       "      <td>NaN</td>\n",
       "      <td>NaN</td>\n",
       "      <td>NaN</td>\n",
       "      <td>NaN</td>\n",
       "      <td>NaN</td>\n",
       "      <td>NaN</td>\n",
       "      <td>NaN</td>\n",
       "    </tr>\n",
       "    <tr>\n",
       "      <th>3</th>\n",
       "      <td>No</td>\n",
       "      <td>Male</td>\n",
       "      <td>40</td>\n",
       "      <td>us</td>\n",
       "      <td>or</td>\n",
       "      <td>MEH</td>\n",
       "      <td>DESPAIR</td>\n",
       "      <td>JOY</td>\n",
       "      <td>MEH</td>\n",
       "      <td>MEH</td>\n",
       "      <td>...</td>\n",
       "      <td>JOY</td>\n",
       "      <td>DESPAIR</td>\n",
       "      <td>DESPAIR</td>\n",
       "      <td>DESPAIR</td>\n",
       "      <td>White and gold</td>\n",
       "      <td>Sunday</td>\n",
       "      <td>1.0</td>\n",
       "      <td>NaN</td>\n",
       "      <td>NaN</td>\n",
       "      <td>(75, 23)</td>\n",
       "    </tr>\n",
       "    <tr>\n",
       "      <th>4</th>\n",
       "      <td>No</td>\n",
       "      <td>Male</td>\n",
       "      <td>23</td>\n",
       "      <td>usa</td>\n",
       "      <td>exton pa</td>\n",
       "      <td>JOY</td>\n",
       "      <td>DESPAIR</td>\n",
       "      <td>JOY</td>\n",
       "      <td>DESPAIR</td>\n",
       "      <td>MEH</td>\n",
       "      <td>...</td>\n",
       "      <td>JOY</td>\n",
       "      <td>DESPAIR</td>\n",
       "      <td>DESPAIR</td>\n",
       "      <td>JOY</td>\n",
       "      <td>White and gold</td>\n",
       "      <td>Friday</td>\n",
       "      <td>1.0</td>\n",
       "      <td>NaN</td>\n",
       "      <td>NaN</td>\n",
       "      <td>(70, 10)</td>\n",
       "    </tr>\n",
       "  </tbody>\n",
       "</table>\n",
       "<p>5 rows × 114 columns</p>\n",
       "</div>"
      ],
      "text/plain": [
       "  Going out Gender  Age Country     State 100 Grand Bar  \\\n",
       "0       NaN    NaN  NaN     NaN       NaN           NaN   \n",
       "1        No   Male   44    USA         NM           MEH   \n",
       "2       NaN   Male   49     USA  Virginia           NaN   \n",
       "3        No   Male   40      us        or           MEH   \n",
       "4        No   Male   23     usa  exton pa           JOY   \n",
       "\n",
       "  Anonymous brown globs that come in black and orange wrappers\\t(a.k.a. Mary Janes)  \\\n",
       "0                                                NaN                                  \n",
       "1                                            DESPAIR                                  \n",
       "2                                                NaN                                  \n",
       "3                                            DESPAIR                                  \n",
       "4                                            DESPAIR                                  \n",
       "\n",
       "  Any full-sized candy bar Black Jacks Bonkers (the candy)  ...  \\\n",
       "0                      NaN         NaN                 NaN  ...   \n",
       "1                      JOY         MEH             DESPAIR  ...   \n",
       "2                      NaN         NaN                 NaN  ...   \n",
       "3                      JOY         MEH                 MEH  ...   \n",
       "4                      JOY     DESPAIR                 MEH  ...   \n",
       "\n",
       "  Whatchamacallit Bars White Bread Whole Wheat anything  \\\n",
       "0                  NaN         NaN                  NaN   \n",
       "1              DESPAIR     DESPAIR              DESPAIR   \n",
       "2                  NaN         NaN                  NaN   \n",
       "3                  JOY     DESPAIR              DESPAIR   \n",
       "4                  JOY     DESPAIR              DESPAIR   \n",
       "\n",
       "  York Peppermint Patties           Dress     Day Science ESPN Yahoo  \\\n",
       "0                     NaN             NaN     NaN     NaN  NaN   NaN   \n",
       "1                 DESPAIR  White and gold  Sunday     1.0  NaN   NaN   \n",
       "2                     NaN             NaN     NaN     NaN  NaN   NaN   \n",
       "3                 DESPAIR  White and gold  Sunday     1.0  NaN   NaN   \n",
       "4                     JOY  White and gold  Friday     1.0  NaN   NaN   \n",
       "\n",
       "  Click Coordinates (x, y)  \n",
       "0                      NaN  \n",
       "1                 (84, 25)  \n",
       "2                      NaN  \n",
       "3                 (75, 23)  \n",
       "4                 (70, 10)  \n",
       "\n",
       "[5 rows x 114 columns]"
      ]
     },
     "execution_count": 31,
     "metadata": {},
     "output_type": "execute_result"
    }
   ],
   "source": [
    "df = df.rename(columns={'Q1: GOING OUT?':'GoingOut', 'Q2: GENDER':'Gender', 'Q3: AGE':'Age',\n",
    "'Q4: COUNTRY':'Country','Q5: STATE, PROVINCE, COUNTY, ETC':'LivingIN', 'Q7: JOY OTHER':'Joy other',\n",
    "'Q8: DESPAIR OTHER':'Despair other', 'Q9: OTHER COMMENTS':'Other comments',\n",
    "'Q10: DRESS':'Dress','Q11: DAY':'Day', 'Q12: MEDIA [Science]':'Science',\n",
    "'Q12: MEDIA [Daily Dish]':'Daily Dish', 'Q12: MEDIA [ESPN]':'ESPN',\n",
    "'Q12: MEDIA [Yahoo]':'Yahoo'})\n",
    "df.columns = df.columns.str.strip('Q6 |')\n",
    "df.head()"
   ]
  },
  {
   "cell_type": "code",
   "execution_count": 22,
   "metadata": {},
   "outputs": [
    {
     "name": "stdout",
     "output_type": "stream",
     "text": [
      "ESPN\n",
      "Yahoo\n"
     ]
    }
   ],
   "source": [
    "for i in range(len(df.isnull().sum())):\n",
    "    if df.isna().sum()[i] > 1229:\n",
    "        print(df.isna().sum().index[i])"
   ]
  },
  {
   "cell_type": "code",
   "execution_count": 14,
   "metadata": {},
   "outputs": [],
   "source": [
    "df.drop(columns=['Joy other','Despair other','Other comments','Unnamed: 113','Daily Dish'],inplace=True)\n",
    "                 "
   ]
  },
  {
   "cell_type": "code",
   "execution_count": 36,
   "metadata": {},
   "outputs": [
    {
     "name": "stdout",
     "output_type": "stream",
     "text": [
      "Going out\n",
      "Gender\n",
      "Age\n",
      "Country\n",
      "State\n",
      "100 Grand Bar\n",
      "Anonymous brown globs that come in black and orange wrappers\t(a.k.a. Mary Janes)\n",
      "Any full-sized candy bar\n",
      "Black Jacks\n",
      "Bonkers (the candy)\n",
      "Bonkers (the board game)\n",
      "Bottle Caps\n",
      "Box'o'Raisins\n",
      "Broken glow stick\n",
      "Butterfinger\n",
      "Cadbury Creme Eggs\n",
      "Candy Corn\n",
      "Candy that is clearly just the stuff given out for free at restaurants\n",
      "Caramellos\n",
      "Cash, or other forms of legal tender\n",
      "Chardonnay\n",
      "Chick-o-Sticks (we don’t know what that is)\n",
      "Chiclets\n",
      "Coffee Crisp\n",
      "Creepy Religious comics/Chick Tracts\n",
      "Dental paraphenalia\n",
      "Dots\n",
      "Dove Bars\n",
      "Fuzzy Peaches\n",
      "Generic Brand Acetaminophen\n",
      "Glow sticks\n",
      "Goo Goo Clusters\n",
      "Good N' Plenty\n",
      "Gum from baseball cards\n",
      "Gummy Bears straight up\n",
      "Hard Candy\n",
      "Healthy Fruit\n",
      "Heath Bar\n",
      "Hershey's Dark Chocolate\n",
      "Hershey’s Milk Chocolate\n",
      "Hershey's Kisses\n",
      "Hugs (actual physical hugs)\n",
      "Jolly Rancher (bad flavor)\n",
      "Jolly Ranchers (good flavor)\n",
      "JoyJoy (Mit Iodine!)\n",
      "Junior Mints\n",
      "Senior Mints\n",
      "Kale smoothie\n",
      "Kinder Happy Hippo\n",
      "Kit Kat\n",
      "LaffyTaffy\n",
      "LemonHeads\n",
      "Licorice (not black)\n",
      "Licorice (yes black)\n",
      "Lindt Truffle\n",
      "Lollipops\n",
      "Mars\n",
      "Maynards\n",
      "Mike and Ike\n",
      "Milk Duds\n",
      "Milky Way\n",
      "Regular M&Ms\n",
      "Peanut M&M’s\n",
      "Blue M&M's\n",
      "Red M&M's\n",
      "Green Party M&M's\n",
      "Independent M&M's\n",
      "Abstained from M&M'ing.\n",
      "Minibags of chips\n",
      "Mint Kisses\n",
      "Mint Juleps\n",
      "Mr. Goodbar\n",
      "Necco Wafers\n",
      "Nerds\n",
      "Nestle Crunch\n",
      "Now'n'Laters\n",
      "Peeps\n",
      "Pencils\n",
      "Pixy Stix\n",
      "Real Housewives of Orange County Season 9 Blue-Ray\n",
      "Reese’s Peanut Butter Cups\n",
      "Reese's Pieces\n",
      "Reggie Jackson Bar\n",
      "Rolos\n",
      "Sandwich-sized bags filled with BooBerry Crunch\n",
      "Skittles\n",
      "Smarties (American)\n",
      "Smarties (Commonwealth)\n",
      "Snickers\n",
      "Sourpatch Kids (i.e. abominations of nature)\n",
      "Spotted Dick\n",
      "Starburst\n",
      "Sweet Tarts\n",
      "Swedish Fish\n",
      "Sweetums (a friend to diabetes)\n",
      "Take 5\n",
      "Tic Tacs\n",
      "Those odd marshmallow circus peanut things\n",
      "Three Musketeers\n",
      "Tolberone something or other\n",
      "Trail Mix\n",
      "Twix\n",
      "Vials of pure high fructose corn syrup, for main-lining into your vein\n",
      "Vicodin\n",
      "Whatchamacallit Bars\n",
      "White Bread\n",
      "Whole Wheat anything\n",
      "York Peppermint Patties\n",
      "Dress\n",
      "Day\n",
      "Science\n",
      "ESPN\n",
      "Yahoo\n",
      "Click Coordinates (x, y)\n"
     ]
    }
   ],
   "source": [
    "for col in df.columns:\n",
    "    print(col)"
   ]
  },
  {
   "cell_type": "code",
   "execution_count": 25,
   "metadata": {
    "scrolled": true
   },
   "outputs": [],
   "source": [
    "df.drop(columns=['Internal ID'],inplace=True)"
   ]
  },
  {
   "cell_type": "code",
   "execution_count": 27,
   "metadata": {},
   "outputs": [
    {
     "data": {
      "text/plain": [
       "(2460, 114)"
      ]
     },
     "execution_count": 27,
     "metadata": {},
     "output_type": "execute_result"
    }
   ],
   "source": [
    "df.shape"
   ]
  },
  {
   "cell_type": "markdown",
   "metadata": {},
   "source": [
    "### 5 - clean `going out` column \n",
    "> tip : you should choose which best value to put in place of these NaNs ( mode, unknown,other ....etc)"
   ]
  },
  {
   "cell_type": "code",
   "execution_count": 37,
   "metadata": {},
   "outputs": [
    {
     "data": {
      "text/plain": [
       "array([nan, 'No', 'Yes'], dtype=object)"
      ]
     },
     "execution_count": 37,
     "metadata": {},
     "output_type": "execute_result"
    }
   ],
   "source": [
    "df['Going out'].unique()"
   ]
  },
  {
   "cell_type": "code",
   "execution_count": 38,
   "metadata": {},
   "outputs": [
    {
     "data": {
      "text/plain": [
       "Going out\n",
       "No     2038\n",
       "Yes     312\n",
       "NaN     110\n",
       "Name: count, dtype: int64"
      ]
     },
     "execution_count": 38,
     "metadata": {},
     "output_type": "execute_result"
    }
   ],
   "source": [
    "df['Going out'].value_counts(dropna=False)"
   ]
  },
  {
   "cell_type": "code",
   "execution_count": 39,
   "metadata": {},
   "outputs": [],
   "source": [
    "df['Going out'].fillna(\"I Don't Know\",inplace=True)"
   ]
  },
  {
   "cell_type": "code",
   "execution_count": 40,
   "metadata": {},
   "outputs": [
    {
     "data": {
      "image/png": "[encoded data removed]",
      "text/plain": [
       "<Figure size 640x480 with 1 Axes>"
      ]
     },
     "metadata": {},
     "output_type": "display_data"
    }
   ],
   "source": [
    "sns.countplot(x = \"Going out\", data = df, order = df['Going out'].value_counts().index)\n",
    "plt.title(\"Going out\")\n",
    "plt.show()"
   ]
  },
  {
   "cell_type": "markdown",
   "metadata": {},
   "source": [
    "### 6 - clean ` gender` column \n",
    "> tip : you should choose which best value to put in place of these NaNs ( mode, unknown,other ....etc)"
   ]
  },
  {
   "cell_type": "code",
   "execution_count": 41,
   "metadata": {},
   "outputs": [
    {
     "data": {
      "text/plain": [
       "array([nan, 'Male', 'Female', \"I'd rather not say\", 'Other'], dtype=object)"
      ]
     },
     "execution_count": 41,
     "metadata": {},
     "output_type": "execute_result"
    }
   ],
   "source": [
    "df['Gender'].unique()"
   ]
  },
  {
   "cell_type": "code",
   "execution_count": 42,
   "metadata": {},
   "outputs": [
    {
     "data": {
      "text/plain": [
       "Gender\n",
       "Male                  1467\n",
       "Female                 839\n",
       "I'd rather not say      83\n",
       "NaN                     41\n",
       "Other                   30\n",
       "Name: count, dtype: int64"
      ]
     },
     "execution_count": 42,
     "metadata": {},
     "output_type": "execute_result"
    }
   ],
   "source": [
    "df['Gender'].value_counts(dropna=False)"
   ]
  },
  {
   "cell_type": "code",
   "execution_count": 43,
   "metadata": {},
   "outputs": [],
   "source": [
    "df['Gender'].fillna(\"I'd rather not say\", inplace=True)"
   ]
  },
  {
   "cell_type": "code",
   "execution_count": 44,
   "metadata": {},
   "outputs": [],
   "source": [
    "df['Gender'].replace(\"Other\",\"I'd rather not say\", inplace=True)"
   ]
  },
  {
   "cell_type": "code",
   "execution_count": 45,
   "metadata": {},
   "outputs": [
    {
     "data": {
      "image/png": "[encoded data removed]",
      "text/plain": [
       "<Figure size 640x480 with 1 Axes>"
      ]
     },
     "metadata": {},
     "output_type": "display_data"
    }
   ],
   "source": [
    "sns.countplot(x = \"Gender\", data = df, order = df['Gender'].value_counts().index)\n",
    "plt.title(\"Gender\")\n",
    "plt.show()"
   ]
  },
  {
   "cell_type": "markdown",
   "metadata": {},
   "source": [
    "### 7 - clean ` age` column \n",
    "> tip : note the type of age column , and NaN values\n",
    " - try to use `to_numeric` \n",
    " - tip : you should choose which best value to put in place of these NaNs ( mean, median, ....etc)"
   ]
  },
  {
   "cell_type": "code",
   "execution_count": 46,
   "metadata": {},
   "outputs": [
    {
     "data": {
      "text/plain": [
       "array([nan, 44, 49, 40, 23, 53, 33, 43, 56, 64, 37, 59, 48, 54, 36, 45,\n",
       "       25, 34, 35, 38, 58, 50, 47, 16, 52, 63, 65, 41, 27, 31, 61, 46, 42,\n",
       "       62, 29, 39, 32, 28, 69, 67, 30, 22, 26, 51, 70, 24, 18, 19,\n",
       "       'Old enough', 57, 60, 66, 12, 'Many', 55, 72, '?', 21, 11, 'no', 9,\n",
       "       68, 20, 6, 10, 71, 90, 13, '45-55', 312, 99, 7, 'hahahahaha', 88,\n",
       "       39.4, 74, 102, 'older than dirt', 17, 15, 8, 75, '5u', 'Enough',\n",
       "       'See question 2', '24-50', 14, 'Over 50', 100, 76, 1000,\n",
       "       'sixty-nine', '46 Halloweens.', 'ancient', 77, 'OLD', 'old', 73,\n",
       "       70.5, 1, 'MY NAME JEFF', 4, '59 on the day after Halloween',\n",
       "       'old enough', 'your mom',\n",
       "       'I can remember when Java was a cool new language', '60+'],\n",
       "      dtype=object)"
      ]
     },
     "execution_count": 46,
     "metadata": {},
     "output_type": "execute_result"
    }
   ],
   "source": [
    "df['Age'].unique()"
   ]
  },
  {
   "cell_type": "code",
   "execution_count": 47,
   "metadata": {},
   "outputs": [
    {
     "name": "stdout",
     "output_type": "stream",
     "text": [
      "0        NaN\n",
      "1       44.0\n",
      "2       49.0\n",
      "3       40.0\n",
      "4       23.0\n",
      "        ... \n",
      "2455    24.0\n",
      "2456    33.0\n",
      "2457    26.0\n",
      "2458    58.0\n",
      "2459    66.0\n",
      "Name: Age, Length: 2460, dtype: float64\n"
     ]
    }
   ],
   "source": [
    "trying = df['Age']\n",
    "series = pd.Series(trying)\n",
    "result = pd.to_numeric(series, errors='coerce')\n",
    "\n",
    "print(result)"
   ]
  },
  {
   "cell_type": "code",
   "execution_count": 48,
   "metadata": {},
   "outputs": [],
   "source": [
    "df['Age'] = pd.to_numeric(df['Age'],errors='coerce')"
   ]
  },
  {
   "cell_type": "code",
   "execution_count": 49,
   "metadata": {},
   "outputs": [
    {
     "data": {
      "text/plain": [
       "108"
      ]
     },
     "execution_count": 49,
     "metadata": {},
     "output_type": "execute_result"
    }
   ],
   "source": [
    "df['Age'].isna().sum()"
   ]
  },
  {
   "cell_type": "code",
   "execution_count": 50,
   "metadata": {},
   "outputs": [],
   "source": [
    "average = df['Age'].mean()\n",
    "df['Age'].fillna(average,inplace=True)"
   ]
  },
  {
   "cell_type": "code",
   "execution_count": 51,
   "metadata": {},
   "outputs": [
    {
     "data": {
      "image/png": "[encoded data removed]",
      "text/plain": [
       "<Figure size 640x480 with 1 Axes>"
      ]
     },
     "metadata": {},
     "output_type": "display_data"
    }
   ],
   "source": [
    "sns.histplot(x = \"Age\", data = df, kde = True)\n",
    "plt.axvline(df.Age.mean(), color = \"r\")\n",
    "plt.title(\"age distribution\")\n",
    "plt.xlim(0, 70)\n",
    "plt.show()"
   ]
  },
  {
   "cell_type": "markdown",
   "metadata": {},
   "source": [
    "### 8 - clean ` country` column\n",
    "> tip : note that country column has country names with different writing ways \n",
    "  - use fuzzywuzzy to deal with this problem\n",
    "  - you should choose which best value to put in place of these NaNs ( mode, unknown,other ....etc)"
   ]
  },
  {
   "cell_type": "code",
   "execution_count": 52,
   "metadata": {},
   "outputs": [
    {
     "data": {
      "text/plain": [
       "array([nan, 'USA ', 'USA', 'us', 'usa', 'canada', 'Canada', 'Us', 'US',\n",
       "       'Murica', 'United States', 'uk', 'United Kingdom', 'united states',\n",
       "       'Usa', 'United States ', 'United staes',\n",
       "       'United States of America', 'UAE', 'England', 'UK', 'canada ',\n",
       "       'Mexico', 'United states', 'u.s.a.', 'USAUSAUSA', 'america', 35,\n",
       "       'france', 'United States of America ', 'U.S.A.', 'finland',\n",
       "       'unhinged states', 'Canada ', 'united states of america',\n",
       "       'US of A', 'Unites States', 'The United States', 'North Carolina ',\n",
       "       'Unied States', 'Netherlands', 'germany', 'Europe', 'Earth', 'U S',\n",
       "       'u.s.', 'U.K. ', 'Costa Rica', 'The United States of America',\n",
       "       'unite states', 'U.S.', 46, 'cascadia', 'Australia',\n",
       "       'insanity lately', 'Greece', 'USA? Hard to tell anymore..',\n",
       "       \"'merica\", 'usas', 'Pittsburgh', 45, 'United State', 32, 'France',\n",
       "       'australia', 'A', 'Can', 'Canae', 'New York', 'Trumpistan',\n",
       "       'Ireland', 'United Sates', 'Korea', 'California', 'Japan', 'USa',\n",
       "       'South africa',\n",
       "       'I pretend to be from Canada, but I am really from the United States.',\n",
       "       'Usa ', 'Uk', 'Iceland', 'Germany', 'Canada`', 'Scotland', 'UK ',\n",
       "       'Denmark', 'United Stated', 'France ', 'Switzerland',\n",
       "       'Ahem....Amerca', 'UD', 'Scotland ', 'South Korea', 'New Jersey',\n",
       "       'CANADA', 'Indonesia', 'United ststes', 'America',\n",
       "       'The Netherlands', 'United Statss', 'endland', 'Atlantis',\n",
       "       'murrika', 'USA! USA! USA!', 'USAA', 'Alaska', 'united States ',\n",
       "       'soviet canuckistan', 'N. America', 'Singapore', 'USSA', 'China',\n",
       "       'Taiwan', 'Ireland ', 'hong kong', 'spain', 'Sweden', 'Hong Kong',\n",
       "       'U.S. ', 'Narnia', 'u s a', 'United Statea', 'united ststes', 1,\n",
       "       'subscribe to dm4uz3 on youtube', 'United kingdom',\n",
       "       'USA USA USA!!!!', \"I don't know anymore\", 'Fear and Loathing'],\n",
       "      dtype=object)"
      ]
     },
     "execution_count": 52,
     "metadata": {},
     "output_type": "execute_result"
    }
   ],
   "source": [
    "df[\"Country\"].unique()"
   ]
  },
  {
   "cell_type": "code",
   "execution_count": 53,
   "metadata": {},
   "outputs": [],
   "source": [
    "df[\"Country\"] = df[\"Country\"].str.upper()\n",
    "df[\"Country\"] = df[\"Country\"].str.strip()"
   ]
  },
  {
   "cell_type": "code",
   "execution_count": 54,
   "metadata": {},
   "outputs": [
    {
     "data": {
      "text/plain": [
       "69"
      ]
     },
     "execution_count": 54,
     "metadata": {},
     "output_type": "execute_result"
    }
   ],
   "source": [
    "df[\"Country\"].isna().sum()"
   ]
  },
  {
   "cell_type": "code",
   "execution_count": 55,
   "metadata": {},
   "outputs": [],
   "source": [
    "df[\"Country\"].fillna(\"Others\",inplace=True)"
   ]
  },
  {
   "cell_type": "code",
   "execution_count": 56,
   "metadata": {},
   "outputs": [
    {
     "data": {
      "text/plain": [
       "array(['Others', 'USA', 'US', 'CANADA', 'MURICA', 'UNITED STATES', 'UK',\n",
       "       'UNITED KINGDOM', 'UNITED STAES', 'UNITED STATES OF AMERICA',\n",
       "       'UAE', 'ENGLAND', 'MEXICO', 'U.S.A.', 'USAUSAUSA', 'AMERICA',\n",
       "       'FRANCE', 'FINLAND', 'UNHINGED STATES', 'US OF A', 'UNITES STATES',\n",
       "       'THE UNITED STATES', 'NORTH CAROLINA', 'UNIED STATES',\n",
       "       'NETHERLANDS', 'GERMANY', 'EUROPE', 'EARTH', 'U S', 'U.S.', 'U.K.',\n",
       "       'COSTA RICA', 'THE UNITED STATES OF AMERICA', 'UNITE STATES',\n",
       "       'CASCADIA', 'AUSTRALIA', 'INSANITY LATELY', 'GREECE',\n",
       "       'USA? HARD TO TELL ANYMORE..', \"'MERICA\", 'USAS', 'PITTSBURGH',\n",
       "       'UNITED STATE', 'A', 'CAN', 'CANAE', 'NEW YORK', 'TRUMPISTAN',\n",
       "       'IRELAND', 'UNITED SATES', 'KOREA', 'CALIFORNIA', 'JAPAN',\n",
       "       'SOUTH AFRICA',\n",
       "       'I PRETEND TO BE FROM CANADA, BUT I AM REALLY FROM THE UNITED STATES.',\n",
       "       'ICELAND', 'CANADA`', 'SCOTLAND', 'DENMARK', 'UNITED STATED',\n",
       "       'SWITZERLAND', 'AHEM....AMERCA', 'UD', 'SOUTH KOREA', 'NEW JERSEY',\n",
       "       'INDONESIA', 'UNITED STSTES', 'THE NETHERLANDS', 'UNITED STATSS',\n",
       "       'ENDLAND', 'ATLANTIS', 'MURRIKA', 'USA! USA! USA!', 'USAA',\n",
       "       'ALASKA', 'SOVIET CANUCKISTAN', 'N. AMERICA', 'SINGAPORE', 'USSA',\n",
       "       'CHINA', 'TAIWAN', 'HONG KONG', 'SPAIN', 'SWEDEN', 'NARNIA',\n",
       "       'U S A', 'UNITED STATEA', 'SUBSCRIBE TO DM4UZ3 ON YOUTUBE',\n",
       "       'USA USA USA!!!!', \"I DON'T KNOW ANYMORE\", 'FEAR AND LOATHING'],\n",
       "      dtype=object)"
      ]
     },
     "execution_count": 56,
     "metadata": {},
     "output_type": "execute_result"
    }
   ],
   "source": [
    "df[\"Country\"].unique()"
   ]
  },
  {
   "cell_type": "code",
   "execution_count": 57,
   "metadata": {},
   "outputs": [],
   "source": [
    "correct = [\"USA\", \"UNITED STATES\", \"CANADA\", \"AMERICA\", \"UNITED KINGDOM\"]"
   ]
  },
  {
   "cell_type": "code",
   "execution_count": 62,
   "metadata": {},
   "outputs": [],
   "source": [
    "for test in correct:\n",
    "    matches = process.extract(test, df[\"Country\"], limit = df.shape[0])\n",
    "    \n",
    "    for matching in matches:\n",
    "        if matching[1] >= 80:\n",
    "            df.loc[df['Country'] == matching[0], 'Country'] = test\n",
    "            "
   ]
  },
  {
   "cell_type": "code",
   "execution_count": 65,
   "metadata": {},
   "outputs": [],
   "source": [
    "df[\"Country\"]= df[\"Country\"].str.replace(\".\",\"\")\n",
    "df[\"Country\"]= df[\"Country\"].replace([\"UNITED STATES\", \"AMERICA\", \"NEW JERSEY\", \"U S A\",\"US OF A\",\n",
    "                                                     \"NORTH CAROLINA\", \"NEW YORK\", \"USA? HARD TO TELL ANYMORE\",\"USA\",\n",
    "                                                     \"MEXICO\", \"CALIFORNIA\"],\"USA\")\n",
    "df[\"Country\"]= df[\"Country\"].replace([\"UK\", \"UNITED KINGDOM\", \"ENDLAND\", \"FRANCE\"], \"UK\")\n"
   ]
  },
  {
   "cell_type": "code",
   "execution_count": null,
   "metadata": {},
   "outputs": [],
   "source": []
  },
  {
   "cell_type": "code",
   "execution_count": 67,
   "metadata": {
    "scrolled": true
   },
   "outputs": [
    {
     "data": {
      "text/plain": [
       "Country\n",
       "USA                               2049\n",
       "CANADA                             226\n",
       "Others                              69\n",
       "UK                                  37\n",
       "GERMANY                             10\n",
       "AUSTRALIA                            7\n",
       "NETHERLANDS                          6\n",
       "SCOTLAND                             5\n",
       "JAPAN                                5\n",
       "IRELAND                              4\n",
       "SWITZERLAND                          3\n",
       "DENMARK                              2\n",
       "HONG KONG                            2\n",
       "CHINA                                2\n",
       "SWEDEN                               2\n",
       "ATLANTIS                             1\n",
       "INDONESIA                            1\n",
       "I DON'T KNOW ANYMORE                 1\n",
       "THE NETHERLANDS                      1\n",
       "NARNIA                               1\n",
       "MURRIKA                              1\n",
       "SOVIET CANUCKISTAN                   1\n",
       "SINGAPORE                            1\n",
       "SOUTH KOREA                          1\n",
       "TAIWAN                               1\n",
       "SPAIN                                1\n",
       "SUBSCRIBE TO DM4UZ3 ON YOUTUBE       1\n",
       "ALASKA                               1\n",
       "SOUTH AFRICA                         1\n",
       "UD                                   1\n",
       "COSTA RICA                           1\n",
       "MURICA                               1\n",
       "UAE                                  1\n",
       "ENGLAND                              1\n",
       "FINLAND                              1\n",
       "EUROPE                               1\n",
       "EARTH                                1\n",
       "CASCADIA                             1\n",
       "ICELAND                              1\n",
       "INSANITY LATELY                      1\n",
       "GREECE                               1\n",
       "PITTSBURGH                           1\n",
       "CANAE                                1\n",
       "TRUMPISTAN                           1\n",
       "KOREA                                1\n",
       "FEAR AND LOATHING                    1\n",
       "Name: count, dtype: int64"
      ]
     },
     "execution_count": 67,
     "metadata": {},
     "output_type": "execute_result"
    }
   ],
   "source": [
    "df[\"Country\"].value_counts()"
   ]
  },
  {
   "cell_type": "markdown",
   "metadata": {},
   "source": [
    "### 9 - clean ` area` column\n",
    "> tip : area column has the same problem as country columns , but looking at all it's unique values may give us another way to deal with it rather than try to fix it"
   ]
  },
  {
   "cell_type": "code",
   "execution_count": 69,
   "metadata": {},
   "outputs": [
    {
     "data": {
      "text/plain": [
       "array([nan, 'NM', 'Virginia', 'or', 'exton pa', 'Colorado ', 'ontario',\n",
       "       'Ontario', 'Wa', 'Quebec', 'NY', 'California', 'Texas', 'NEW YORK',\n",
       "       'CO', 'IN', 'MN', 'aberdeenshire', 'Alberta', 'Wisconsin, 53705',\n",
       "       'RI', 'NC', 'Scotland', 'minnesota', 'Michigan', 'Florida',\n",
       "       'New Jersey', 'VA', 'Colorado', 'Los Angeles, California', 'CA',\n",
       "       'New York ', 'Chicago, Illinois', 'Nj', 'Wisconsin', 'Minnesota ',\n",
       "       'London', 'mn', 'TEXAS', 'Illinois', 'District of Columbia',\n",
       "       'Washington', 'Massachusetts ', 'OR', 'Montana', 'New York',\n",
       "       'massachusetts', 'Abu Dhabi', 'TX', 'Arizona', 'Dc', 'yukon',\n",
       "       'Pennsylvania ', 'MD', 'Ohio', 'Alberta ', 'OXFORDSHIRE', 'DC',\n",
       "       'Iowa', 'Mn', 'TN', 'BC', 'Maryland', 'MI', 'Wisconsin ', 'alaska',\n",
       "       'Ny', 'Colorado, Jefferson county ', 'Louisiana', 'pa',\n",
       "       'CO, Larimer County', 'Nebraska ', 'Oregon', 'UT', 'ny',\n",
       "       'Pennsylvania', 'CDMX', 'north carolina', 'Tennessee ', 'Texas ',\n",
       "       'Knox county, Tennessee', 'New Mexico', 'Maine', 'maine',\n",
       "       'Virginia, Arlington', 'WA', 'MO', 'Illinois ', 'Mi', 'MA',\n",
       "       'Alaska', 'New York, NY', 'Il', 'PA', 'New Hampshire ',\n",
       "       'Washington ', 'Massachusetts', 'Georgia', 'IL', 'Oregon ',\n",
       "       'Washington, Clark ', 'NE', 'Oklahoma', 'SC', 'Nebraska', 'mi',\n",
       "       'Nevada', 'va', 'California ', 'vancouver, bc',\n",
       "       'Oregon - but will be in Washington for Halloween', 'Ri',\n",
       "       'Washington, King', 'Ca', 'wa', 'md', 'new york', 'Rhode island',\n",
       "       'VT, Chittenden', 'North Carolina', 'pennsylvania', 'PEnnsylvania',\n",
       "       'Alabama', 'GA', 'FL, Orange County', 'Nope', 'manitoba',\n",
       "       'colorado', 'california ', 'South Carolina', 'california',\n",
       "       'Baja California', 'illinois', 'Santa Cruz County, California',\n",
       "       'MARYLAND', 'NJ', 'North Dakota',\n",
       "       'Pennsylvania, Montgomery County', 'Astoria NY', 'Michigan ', 'ca',\n",
       "       'Kansas ', 'sk', 'Missouri', 'Oxfordshire', 'British Columbia',\n",
       "       'West Virginia', 'Harris County, Texas', 'USA ', 'ohio', 'ma',\n",
       "       'nc', 'Minnesota', 'Bc', 'oregon', 'philadelphia', 'Kentucky',\n",
       "       'HI', 'South Holland', 'Derbyshire', 'hesse',\n",
       "       'Massachusetts, Plymouth county', 'hi', 'Co', 'Cali', 'vt',\n",
       "       'CA, Alameda', 'Utah', 'FL', 'Michigan, Shiawassee County',\n",
       "       'Newfoundland', 'Indiana', 'wisconsin', 'Idaho ada', 'La',\n",
       "       'America', 'Hawaii', 'California, Alameda', 'Az', 'VT', 'AZ',\n",
       "       'Sub Earth', 'North dakota', 'virginia', 'Ga',\n",
       "       'alameda county, california', 'Greater London', 'bc', 'nm', 'AB',\n",
       "       'WV, Kanawha County ', 'michigan', 'Florida ', 'tx',\n",
       "       'Washington State', 'Sussex', 48, 'Washington, King County',\n",
       "       'San Jose', 'florida', 'Connecticut', 'New Jersey ', 'Orlando, FL',\n",
       "       'ON', 'Saskatchewan', 'South Carolina ', 'texas', 'newfoundland',\n",
       "       'mississippi', 'Oklahoma ', 'washington', 'Manitoba ',\n",
       "       'Manchester', 'cascadia', 'in', 'rhode island', 'Ohio ', 'Pa',\n",
       "       'FL ', 'Ut', 'Sydney ', 'CT',\n",
       "       'oblivion if things keep going this way', 'connecticut',\n",
       "       'British Columbia ', 'Nunya, Bizness, USA', 'OH',\n",
       "       'Washington state', 'Oakland, California',\n",
       "       'Washington, Seattle, king', 'Ontario,  Canada', 'ri',\n",
       "       'phoenix, maricopa county, arizona', 'Merlin', 'NS',\n",
       "       'Washington state, Kitsap County', 'cailifornia', 'oakland,ca',\n",
       "       'QC', 'USA', 'Missouri ', 'Pittsburgh pa',\n",
       "       'Issaquah, WA, King County ', 'Washington, seattle, king',\n",
       "       'Massachussets ', 'Whatcom County, WA', 'Mt', 'NH', 'Michigin',\n",
       "       'Ma', 'KS', 'Oakland County, Michigan', 'Albeqrrta', 'Marne',\n",
       "       'Noord-Holland', 'Tennessee, Knox County', 'Henrico, VA',\n",
       "       'Washington State, King County, City of Seattle', 'Washington, DC',\n",
       "       'nyc', 'Brooklyn', 'qld', 'Santa Barbara co. California',\n",
       "       'Maryland ', 'Ky', 'New Orleans la ', 'colorado, boulder', 'mo',\n",
       "       'COLORADO', 'Nh', 'Greater Manchester', 'Fife, Scotland', 'A',\n",
       "       'Kalamazoo County, MI', 'OREGON', 'Wi', 'Ontario ', 'wv',\n",
       "       'ulster county, NY', 'NJ, Gloucester', 'calif', 'Or', 'tn', 'MS',\n",
       "       'NB', 'Queens', 'Vermont', 'Kildare', 'Vermont ', 'ND',\n",
       "       'tennessee', 'Washington DC', 'Kings, New York ', 'Cook',\n",
       "       'Toronto, Ontario', 'Victoria', 'Virginia ', 'On', 'nova scotia',\n",
       "       'Tehama', 'suffolk county ny', 'Santa Clara County, California',\n",
       "       'louisiana', 'SD', 'Md', 'Missoure', 'IA',\n",
       "       'Colorado larimer county', 'Tokyo', 'New Mexico, USA', 'ont',\n",
       "       'Califor', 'Idaho', 'Kansas', 'NV', 'Brooklyn, kings county ny',\n",
       "       'King County, Washington', 'WI', 'Washington, Island county',\n",
       "       'KwaZulu-Natal', 'Carver county, MN', 'DUTCHESS COUNTY NY', 'Ny ',\n",
       "       'Wyoming ', 'Bristol ', 'british columbia',\n",
       "       'California, San Francisco', 'Glendora, Los Angeles, California',\n",
       "       'Edinburgh', 'Strathclyde', 'Lancasire', 'Ørbæk', 'pr', 'Idf',\n",
       "       'Zuid Holland', 'Osaka', 'Surrey', 'Northern ireland', 'Vaud',\n",
       "       'Arizona ', 'Nova Scotia', 'az', 'see question 2', 'Midlothian',\n",
       "       'Tennessee', 'Durham County, North Carolina',\n",
       "       'Missouri, Miller County', 'Glasgow ', 'ct',\n",
       "       'Cuyahoga County, Ohio', 'Seoul', 'Canada', 'Kanagawa ',\n",
       "       'The Shore', 'Manitoba', 'MD ', 'Devonshire', 'Utah ', 'Tx.',\n",
       "       'maryland', 'PENNSYLVANIA', 'ONTARIO', 'Jakarta', 'kansas',\n",
       "       'Mannheim, Baden-Württemberg ', '|NC', 'Wyoming', 'Rotterdam',\n",
       "       'Ar', 'Arkansas', 'renton,wa ', 'N-Brabant', 'missouri',\n",
       "       'Georgia ', 'Greifswald', 'ar', 'British Columbia, Canada', 'kent',\n",
       "       'Hessen', 'Kentucky ', 'NOYB', 'New york', 'South Dakota',\n",
       "       'Emerald City, Petrolia', 'New York, New York', 'wa, spokane',\n",
       "       'new york ', 'Buncombe County, North Carolina',\n",
       "       'California, San Diego', 'new hampshire',\n",
       "       'California, Ventura County', 'NY, Tompkins County', 'Nj ',\n",
       "       'Arlington, VA', 'Glasgow', 'kentucky', 'alberta', 'Philadelphia',\n",
       "       'Portland, maine', 'sc', 'nh', 'NSW', 'califormia', 'New jersey',\n",
       "       'montana', 'indiana ', 'Mexico city', 'GA - Georgia', 'il', 'WV',\n",
       "       'Oregon, Multnomah County', 'Vancouver, Wa', 'Nc', 'Atlanta, GA',\n",
       "       'Washington state ', 'Singapore', 'west virginia',\n",
       "       'North carolina', 'KY', 'United States', 'Mo', 'Colorado (CO)',\n",
       "       'Fl', 'wyoming', 'Nm', 'Dona Ana county, New Mexico',\n",
       "       'UT, Salt Lake', 'Ks',\n",
       "       'California, Contra Costa County, Pleasant Hill',\n",
       "       'Shanghai, Chang Ning district ', 'Vt', 'Monroe county',\n",
       "       'Hong Kong', 'Washingto', 'Dublin ',\n",
       "       'California, Mendocino County', 'na', 'madrid', 'Hesse',\n",
       "       'Noord-Brabant', 'Skane', 'Zürich', 'Tree Town, USA',\n",
       "       'New Hampshire', 'Philadelphia, PA',\n",
       "       'Bristol County, Rhode Island', 'georgia',\n",
       "       'Newfoundland and Labrador', 'Dublin', 'Oshawa, Ontario, Canada',\n",
       "       'NL', 'DC ', 'oklahoma', 'NJ; Essex', 'Va', 'Delaware', 'Mich',\n",
       "       'Ia', 'Québec', 'orange county, ca', 'BERKELEY, CA',\n",
       "       'California, USA', 'NYC', 'St. Louis County, Missouri', 'Munster',\n",
       "       'Chicago, IL', 'Philadelphia PA', 'Rappahannock County, VA', 'OK',\n",
       "       'Chicago, IL ', 'Mexico City', 'dc', 'Illinois  ', 'WASHINGTON DC',\n",
       "       'Tn', 'Connecticut ', 'ill', 'Idaho ', 'Stockholm',\n",
       "       'New York County, New York City, New York State', 'Chicago',\n",
       "       'West Yorkshire', 'Berlin', 'arlington, va', 1, 'ur mom',\n",
       "       'Alaska, Matanuska-Susitna Borough', 'utah', 'Marietta, GA',\n",
       "       'Northbrook, IL', 'delaware', 'Tx', 'Ont',\n",
       "       'Northampton County, PA', 'Rhode Island',\n",
       "       'Pa.   Northampton county', 'California, San Diego county',\n",
       "       'Bloomington, IN', 'indiana', 'Quenec', 'Londom', 'nj',\n",
       "       'st. augustine florida', 'illinois ', 'iowa',\n",
       "       \"The Democratic People's Republic of North Carolina\", 'SC ',\n",
       "       'pennsylvania, northampton couny, easton', 'St Louis mo', 'mt',\n",
       "       'Psychotic', 'québec'], dtype=object)"
      ]
     },
     "execution_count": 69,
     "metadata": {},
     "output_type": "execute_result"
    }
   ],
   "source": [
    "df[\"State\"].unique()"
   ]
  },
  {
   "cell_type": "markdown",
   "metadata": {},
   "source": [
    "### 10 - clean ` Q6` columns\n",
    ">- tip : Q6 has all kinds of chocolate bars and questions with three distinct options to choose from (Joy, Meh, Despair).\n",
    "- so all the column that has Q6 is a candy name , so you should go through all these column and you should choose which best value to put in place of these NaNs ( mode, unknown,other ....etc)"
   ]
  },
  {
   "cell_type": "code",
   "execution_count": 78,
   "metadata": {},
   "outputs": [
    {
     "data": {
      "text/html": [
       "<div>\n",
       "<style scoped>\n",
       "    .dataframe tbody tr th:only-of-type {\n",
       "        vertical-align: middle;\n",
       "    }\n",
       "\n",
       "    .dataframe tbody tr th {\n",
       "        vertical-align: top;\n",
       "    }\n",
       "\n",
       "    .dataframe thead th {\n",
       "        text-align: right;\n",
       "    }\n",
       "</style>\n",
       "<table border=\"1\" class=\"dataframe\">\n",
       "  <thead>\n",
       "    <tr style=\"text-align: right;\">\n",
       "      <th></th>\n",
       "      <th>Anonymous brown globs that come in black and orange wrappers\\t(a.k.a. Mary Janes)</th>\n",
       "      <th>Any full-sized candy bar</th>\n",
       "      <th>Black Jacks</th>\n",
       "      <th>Bonkers (the candy)</th>\n",
       "      <th>Bonkers (the board game)</th>\n",
       "      <th>Bottle Caps</th>\n",
       "      <th>Box'o'Raisins</th>\n",
       "      <th>Broken glow stick</th>\n",
       "      <th>Butterfinger</th>\n",
       "      <th>Cadbury Creme Eggs</th>\n",
       "      <th>...</th>\n",
       "      <th>Swedish Fish</th>\n",
       "      <th>Sweetums (a friend to diabetes)</th>\n",
       "      <th>Take 5</th>\n",
       "      <th>Tic Tacs</th>\n",
       "      <th>Those odd marshmallow circus peanut things</th>\n",
       "      <th>Three Musketeers</th>\n",
       "      <th>Tolberone something or other</th>\n",
       "      <th>Trail Mix</th>\n",
       "      <th>Twix</th>\n",
       "      <th>Vials of pure high fructose corn syrup, for main-lining into your vein</th>\n",
       "    </tr>\n",
       "  </thead>\n",
       "  <tbody>\n",
       "    <tr>\n",
       "      <th>0</th>\n",
       "      <td>NaN</td>\n",
       "      <td>NaN</td>\n",
       "      <td>NaN</td>\n",
       "      <td>NaN</td>\n",
       "      <td>NaN</td>\n",
       "      <td>NaN</td>\n",
       "      <td>NaN</td>\n",
       "      <td>NaN</td>\n",
       "      <td>NaN</td>\n",
       "      <td>NaN</td>\n",
       "      <td>...</td>\n",
       "      <td>NaN</td>\n",
       "      <td>NaN</td>\n",
       "      <td>NaN</td>\n",
       "      <td>NaN</td>\n",
       "      <td>NaN</td>\n",
       "      <td>NaN</td>\n",
       "      <td>NaN</td>\n",
       "      <td>NaN</td>\n",
       "      <td>NaN</td>\n",
       "      <td>NaN</td>\n",
       "    </tr>\n",
       "    <tr>\n",
       "      <th>1</th>\n",
       "      <td>DESPAIR</td>\n",
       "      <td>JOY</td>\n",
       "      <td>MEH</td>\n",
       "      <td>DESPAIR</td>\n",
       "      <td>DESPAIR</td>\n",
       "      <td>DESPAIR</td>\n",
       "      <td>DESPAIR</td>\n",
       "      <td>DESPAIR</td>\n",
       "      <td>DESPAIR</td>\n",
       "      <td>MEH</td>\n",
       "      <td>...</td>\n",
       "      <td>MEH</td>\n",
       "      <td>DESPAIR</td>\n",
       "      <td>DESPAIR</td>\n",
       "      <td>DESPAIR</td>\n",
       "      <td>DESPAIR</td>\n",
       "      <td>JOY</td>\n",
       "      <td>JOY</td>\n",
       "      <td>DESPAIR</td>\n",
       "      <td>JOY</td>\n",
       "      <td>DESPAIR</td>\n",
       "    </tr>\n",
       "    <tr>\n",
       "      <th>2</th>\n",
       "      <td>NaN</td>\n",
       "      <td>NaN</td>\n",
       "      <td>NaN</td>\n",
       "      <td>NaN</td>\n",
       "      <td>NaN</td>\n",
       "      <td>NaN</td>\n",
       "      <td>NaN</td>\n",
       "      <td>NaN</td>\n",
       "      <td>NaN</td>\n",
       "      <td>NaN</td>\n",
       "      <td>...</td>\n",
       "      <td>NaN</td>\n",
       "      <td>NaN</td>\n",
       "      <td>NaN</td>\n",
       "      <td>NaN</td>\n",
       "      <td>NaN</td>\n",
       "      <td>NaN</td>\n",
       "      <td>NaN</td>\n",
       "      <td>NaN</td>\n",
       "      <td>NaN</td>\n",
       "      <td>NaN</td>\n",
       "    </tr>\n",
       "    <tr>\n",
       "      <th>3</th>\n",
       "      <td>DESPAIR</td>\n",
       "      <td>JOY</td>\n",
       "      <td>MEH</td>\n",
       "      <td>MEH</td>\n",
       "      <td>DESPAIR</td>\n",
       "      <td>MEH</td>\n",
       "      <td>DESPAIR</td>\n",
       "      <td>DESPAIR</td>\n",
       "      <td>MEH</td>\n",
       "      <td>MEH</td>\n",
       "      <td>...</td>\n",
       "      <td>JOY</td>\n",
       "      <td>MEH</td>\n",
       "      <td>JOY</td>\n",
       "      <td>MEH</td>\n",
       "      <td>DESPAIR</td>\n",
       "      <td>DESPAIR</td>\n",
       "      <td>JOY</td>\n",
       "      <td>MEH</td>\n",
       "      <td>JOY</td>\n",
       "      <td>DESPAIR</td>\n",
       "    </tr>\n",
       "    <tr>\n",
       "      <th>4</th>\n",
       "      <td>DESPAIR</td>\n",
       "      <td>JOY</td>\n",
       "      <td>DESPAIR</td>\n",
       "      <td>MEH</td>\n",
       "      <td>DESPAIR</td>\n",
       "      <td>MEH</td>\n",
       "      <td>DESPAIR</td>\n",
       "      <td>DESPAIR</td>\n",
       "      <td>MEH</td>\n",
       "      <td>MEH</td>\n",
       "      <td>...</td>\n",
       "      <td>MEH</td>\n",
       "      <td>DESPAIR</td>\n",
       "      <td>MEH</td>\n",
       "      <td>DESPAIR</td>\n",
       "      <td>DESPAIR</td>\n",
       "      <td>JOY</td>\n",
       "      <td>JOY</td>\n",
       "      <td>DESPAIR</td>\n",
       "      <td>JOY</td>\n",
       "      <td>MEH</td>\n",
       "    </tr>\n",
       "  </tbody>\n",
       "</table>\n",
       "<p>5 rows × 97 columns</p>\n",
       "</div>"
      ],
      "text/plain": [
       "  Anonymous brown globs that come in black and orange wrappers\\t(a.k.a. Mary Janes)  \\\n",
       "0                                                NaN                                  \n",
       "1                                            DESPAIR                                  \n",
       "2                                                NaN                                  \n",
       "3                                            DESPAIR                                  \n",
       "4                                            DESPAIR                                  \n",
       "\n",
       "  Any full-sized candy bar Black Jacks Bonkers (the candy)  \\\n",
       "0                      NaN         NaN                 NaN   \n",
       "1                      JOY         MEH             DESPAIR   \n",
       "2                      NaN         NaN                 NaN   \n",
       "3                      JOY         MEH                 MEH   \n",
       "4                      JOY     DESPAIR                 MEH   \n",
       "\n",
       "  Bonkers (the board game) Bottle Caps Box'o'Raisins Broken glow stick  \\\n",
       "0                      NaN         NaN           NaN               NaN   \n",
       "1                  DESPAIR     DESPAIR       DESPAIR           DESPAIR   \n",
       "2                      NaN         NaN           NaN               NaN   \n",
       "3                  DESPAIR         MEH       DESPAIR           DESPAIR   \n",
       "4                  DESPAIR         MEH       DESPAIR           DESPAIR   \n",
       "\n",
       "  Butterfinger Cadbury Creme Eggs  ... Swedish Fish  \\\n",
       "0          NaN                NaN  ...          NaN   \n",
       "1      DESPAIR                MEH  ...          MEH   \n",
       "2          NaN                NaN  ...          NaN   \n",
       "3          MEH                MEH  ...          JOY   \n",
       "4          MEH                MEH  ...          MEH   \n",
       "\n",
       "  Sweetums (a friend to diabetes)   Take 5 Tic Tacs  \\\n",
       "0                             NaN      NaN      NaN   \n",
       "1                         DESPAIR  DESPAIR  DESPAIR   \n",
       "2                             NaN      NaN      NaN   \n",
       "3                             MEH      JOY      MEH   \n",
       "4                         DESPAIR      MEH  DESPAIR   \n",
       "\n",
       "  Those odd marshmallow circus peanut things Three Musketeers  \\\n",
       "0                                        NaN              NaN   \n",
       "1                                    DESPAIR              JOY   \n",
       "2                                        NaN              NaN   \n",
       "3                                    DESPAIR          DESPAIR   \n",
       "4                                    DESPAIR              JOY   \n",
       "\n",
       "  Tolberone something or other Trail Mix Twix  \\\n",
       "0                          NaN       NaN  NaN   \n",
       "1                          JOY   DESPAIR  JOY   \n",
       "2                          NaN       NaN  NaN   \n",
       "3                          JOY       MEH  JOY   \n",
       "4                          JOY   DESPAIR  JOY   \n",
       "\n",
       "  Vials of pure high fructose corn syrup, for main-lining into your vein  \n",
       "0                                                NaN                      \n",
       "1                                            DESPAIR                      \n",
       "2                                                NaN                      \n",
       "3                                            DESPAIR                      \n",
       "4                                                MEH                      \n",
       "\n",
       "[5 rows x 97 columns]"
      ]
     },
     "execution_count": 78,
     "metadata": {},
     "output_type": "execute_result"
    }
   ],
   "source": [
    "df.iloc[:,6:-11].head()"
   ]
  },
  {
   "cell_type": "code",
   "execution_count": 80,
   "metadata": {},
   "outputs": [],
   "source": [
    "arr = df.iloc[:,6:-11]\n",
    "candy,joy,skipped = [],[],[]\n",
    "for i in arr:\n",
    "    candy.append(i[5:])\n",
    "    joy.append(df[i].value_counts()['JOY'])\n",
    "    skipped.append(df[i].value_counts()['MEH'])"
   ]
  },
  {
   "cell_type": "code",
   "execution_count": 81,
   "metadata": {},
   "outputs": [],
   "source": [
    "dd = pd.DataFrame()\n",
    "dd['col'] = candy\n",
    "dd['joy']=joy\n",
    "dd['skipped'] =skipped\n",
    "dd.sort_values(['joy','skipped'],ascending=[False,False],inplace=True)"
   ]
  },
  {
   "cell_type": "code",
   "execution_count": 85,
   "metadata": {},
   "outputs": [
    {
     "data": {
      "image/png": "[encoded data removed]",
      "text/plain": [
       "<Figure size 511.111x500 with 1 Axes>"
      ]
     },
     "metadata": {},
     "output_type": "display_data"
    }
   ],
   "source": [
    "sns.catplot(y='col',x='joy',data=dd[:20],kind='bar',margin_titles=True)\n",
    "plt.show()"
   ]
  },
  {
   "cell_type": "markdown",
   "metadata": {},
   "source": [
    "### 11 - clean ` dress` column\n",
    ">tip : you should choose which best value to put in place of these NaNs ( mode, unknown,other ....etc)"
   ]
  },
  {
   "cell_type": "code",
   "execution_count": 86,
   "metadata": {},
   "outputs": [
    {
     "data": {
      "text/plain": [
       "Dress\n",
       "White and gold    1081\n",
       "Blue and black     635\n",
       "Name: count, dtype: int64"
      ]
     },
     "execution_count": 86,
     "metadata": {},
     "output_type": "execute_result"
    }
   ],
   "source": [
    "df['Dress'].value_counts()"
   ]
  },
  {
   "cell_type": "code",
   "execution_count": 87,
   "metadata": {},
   "outputs": [
    {
     "data": {
      "text/plain": [
       "744"
      ]
     },
     "execution_count": 87,
     "metadata": {},
     "output_type": "execute_result"
    }
   ],
   "source": [
    "df['Dress'].isna().sum()"
   ]
  },
  {
   "cell_type": "code",
   "execution_count": 88,
   "metadata": {},
   "outputs": [],
   "source": [
    "df[\"Dress\"].fillna(\"Other colors\", inplace = True)"
   ]
  },
  {
   "cell_type": "code",
   "execution_count": 89,
   "metadata": {},
   "outputs": [
    {
     "data": {
      "image/png": "[encoded data removed]",
      "text/plain": [
       "<Figure size 640x480 with 1 Axes>"
      ]
     },
     "metadata": {},
     "output_type": "display_data"
    }
   ],
   "source": [
    "sns.countplot(x = \"Dress\", data = df, order = df['Dress'].value_counts().index)\n",
    "plt.title(\"Dress\")\n",
    "plt.show()"
   ]
  },
  {
   "cell_type": "markdown",
   "metadata": {},
   "source": [
    "### 12 - clean ` day` column\n",
    ">tip : you should choose which best value to put in place of these NaNs ( mode, unknown,other ....etc)"
   ]
  },
  {
   "cell_type": "code",
   "execution_count": 90,
   "metadata": {},
   "outputs": [
    {
     "data": {
      "text/plain": [
       "array([nan, 'Sunday', 'Friday'], dtype=object)"
      ]
     },
     "execution_count": 90,
     "metadata": {},
     "output_type": "execute_result"
    }
   ],
   "source": [
    "df['Day'].unique()"
   ]
  },
  {
   "cell_type": "code",
   "execution_count": 92,
   "metadata": {
    "scrolled": true
   },
   "outputs": [
    {
     "data": {
      "text/plain": [
       "Day\n",
       "Friday    1091\n",
       "Sunday     644\n",
       "Name: count, dtype: int64"
      ]
     },
     "execution_count": 92,
     "metadata": {},
     "output_type": "execute_result"
    }
   ],
   "source": [
    "df['Day'].value_counts()"
   ]
  },
  {
   "cell_type": "code",
   "execution_count": 93,
   "metadata": {},
   "outputs": [],
   "source": [
    "df['Day'].fillna(\"Other Day\", inplace = True) "
   ]
  },
  {
   "cell_type": "code",
   "execution_count": 95,
   "metadata": {},
   "outputs": [
    {
     "data": {
      "image/png": "[encoded data removed]",
      "text/plain": [
       "<Figure size 511.111x500 with 1 Axes>"
      ]
     },
     "metadata": {},
     "output_type": "display_data"
    }
   ],
   "source": [
    "sns.catplot(x = \"Day\", data = df, order = df[\"Day\"].value_counts().index, kind = \"count\")\n",
    "plt.title(\"Day distribution\")\n",
    "plt.show()"
   ]
  },
  {
   "cell_type": "markdown",
   "metadata": {},
   "source": [
    "### 13 - check\n",
    "> after finish cleaning you should make sure your data is clean and that :\n",
    "- there is no wrong data type\n",
    "- there is no NaN values \n",
    "- all the column are cleaing and ready for the next step `EDA`"
   ]
  },
  {
   "cell_type": "markdown",
   "metadata": {},
   "source": [
    "### 14 - write a summary about all the cleaning steps "
   ]
  },
  {
   "cell_type": "code",
   "execution_count": null,
   "metadata": {},
   "outputs": [],
   "source": [
    "#First I tried to understand the dataset and the columns well\n",
    "#Then I started importing the libs like numpy and pandas,etc...\n",
    "#and started exploring the data and the Nan values and how to handle them\n",
    "#then renamed the columns to make it easier while accessing them so I used rename method to\n",
    "#do it and started to take the columns one by one and clean it from the wrong answers or th\n",
    "#missing values by using their aroundings then fill the Nan values with them and finally \n",
    "#visuallize the output to make it clear and get the answer we need, the whole process\n",
    "# reapeted for all the columns, I tried to make the process clear as possible while explaining it "
   ]
  }
 ],
 "metadata": {
  "kernelspec": {
   "display_name": "Python 3 (ipykernel)",
   "language": "python",
   "name": "python3"
  },
  "language_info": {
   "codemirror_mode": {
    "name": "ipython",
    "version": 3
   },
   "file_extension": ".py",
   "mimetype": "text/x-python",
   "name": "python",
   "nbconvert_exporter": "python",
   "pygments_lexer": "ipython3",
   "version": "3.12.0"
  }
 },
 "nbformat": 4,
 "nbformat_minor": 4
}
